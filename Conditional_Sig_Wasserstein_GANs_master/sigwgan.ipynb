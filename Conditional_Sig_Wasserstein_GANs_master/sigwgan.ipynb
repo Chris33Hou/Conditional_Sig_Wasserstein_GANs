{
 "cells": [
  {
   "cell_type": "code",
   "execution_count": 454,
   "id": "04712b46",
   "metadata": {},
   "outputs": [],
   "source": [
    "import itertools\n",
    "import os\n",
    "from os import path as pt\n",
    "\n",
    "import matplotlib.pyplot as plt\n",
    "import numpy as np\n",
    "import pandas as pd\n",
    "import torch\n",
    "from sklearn.model_selection import train_test_split\n",
    "\n",
    "from hyperparameters import SIGCWGAN_CONFIGS\n",
    "from lib import ALGOS\n",
    "from lib.algos.base import BaseConfig\n",
    "from lib.data import download_man_ahl_dataset, download_mit_ecg_dataset\n",
    "from lib.data import get_data\n",
    "from lib.plot import savefig, create_summary\n",
    "from lib.utils import pickle_it\n",
    "import Model_Evaluation\n"
   ]
  },
  {
   "cell_type": "code",
   "execution_count": 457,
   "id": "16ed64c3",
   "metadata": {},
   "outputs": [
    {
     "name": "stdout",
     "output_type": "stream",
     "text": [
      "Start of training. CUDA: True\n",
      "SPX {'assets': ('SPX',)}\n",
      "SPX_DJI {'assets': ('SPX', 'DJI')}\n",
      "Executing: SigCWGAN, STOCKS, SPX\n"
     ]
    }
   ],
   "source": [
    "class Pipeline:\n",
    "    def __init__(self, steps):\n",
    "        \"\"\" Pre- and postprocessing pipeline. \"\"\"\n",
    "        self.steps = steps\n",
    "\n",
    "    def transform(self, x, until=None):\n",
    "        x = x.clone()\n",
    "        for n, step in self.steps:\n",
    "            if n == until:\n",
    "                break\n",
    "            x = step.transform(x)\n",
    "        return x\n",
    "\n",
    "    def inverse_transform(self, x, until=None):\n",
    "        for n, step in self.steps[::-1]:\n",
    "            if n == until:\n",
    "                break\n",
    "            x = step.inverse_transform(x)\n",
    "        return x\n",
    "\n",
    "\n",
    "class StandardScalerTS():\n",
    "    \"\"\" Standard scales a given (indexed) input vector along the specified axis. \"\"\"\n",
    "\n",
    "    def __init__(self, axis=(1)):\n",
    "        self.mean = None\n",
    "        self.std = None\n",
    "        self.axis = axis\n",
    "\n",
    "    def transform(self, x):\n",
    "        if self.mean is None:\n",
    "            self.mean = torch.mean(x, dim=self.axis)\n",
    "            self.std = torch.std(x, dim=self.axis)\n",
    "        return (x - self.mean.to(x.device)) / self.std.to(x.device)\n",
    "\n",
    "    def inverse_transform(self, x):\n",
    "        return x * self.std.to(x.device) + self.mean.to(x.device)\n",
    "    \n",
    "    \n",
    "    \n",
    "def get_algo_config(dataset, data_params):\n",
    "    \"\"\" Get the algorithms parameters. \"\"\"\n",
    "    key = dataset\n",
    "    if dataset == 'VAR':\n",
    "        key += str(data_params['dim'])\n",
    "    elif dataset == 'STOCKS':\n",
    "        key += '_' + '_'.join(data_params['assets'])\n",
    "    return SIGCWGAN_CONFIGS[key]\n",
    "\n",
    "\n",
    "def set_seed(seed):\n",
    "    torch.manual_seed(seed)\n",
    "    np.random.seed(seed)\n",
    "\n",
    "\n",
    "def get_algo(algo_id, base_config, dataset, data_params, x_real):\n",
    "    if algo_id == 'SigCWGAN':\n",
    "        algo_config = get_algo_config(dataset, data_params)\n",
    "        algo = ALGOS[algo_id](x_real=x_real, config=algo_config, base_config=base_config)\n",
    "    else:\n",
    "        algo = ALGOS[algo_id](x_real=x_real, base_config=base_config)\n",
    "    return algo\n",
    "\n",
    "def get_dataset_configuration(dataset):\n",
    "    if dataset == 'ECG':\n",
    "        generator = [('id=100', dict(filenames=['100']))]\n",
    "    elif dataset == 'STOCKS':\n",
    "        generator = (('_'.join(asset), dict(assets=asset)) for asset in [('SPX',), ('SPX', 'DJI')])\n",
    "    elif dataset == 'VAR':\n",
    "        par1 = itertools.product([1], [(0.2, 0.8), (0.5, 0.8), (0.8, 0.8)])\n",
    "        par2 = itertools.product([2], [(0.2, 0.8), (0.5, 0.8), (0.8, 0.8), (0.8, 0.2), (0.8, 0.5)])\n",
    "        par3 = itertools.product([3], [(0.2, 0.8), (0.5, 0.8), (0.8, 0.8), (0.8, 0.2), (0.8, 0.5)])\n",
    "        combinations = itertools.chain(par1, par2, par3)\n",
    "        generator = (\n",
    "            ('dim={}_phi={}_sigma={}'.format(dim, phi, sigma), dict(dim=dim, phi=phi, sigma=sigma))\n",
    "            for dim, (phi, sigma) in combinations\n",
    "        )\n",
    "    elif dataset == 'ARCH':\n",
    "        generator = (('lag={}'.format(lag), dict(lag=lag)) for lag in [3])\n",
    "    elif dataset == 'SINE':\n",
    "        generator = [('a', dict())]\n",
    "    else:\n",
    "        raise Exception('%s not a valid data type.' % dataset)\n",
    "    return generator\n",
    "\n",
    "def rolling_window(x, x_lag, add_batch_dim=True):\n",
    "    if add_batch_dim:\n",
    "        x = x[None, ...]\n",
    "    return torch.cat([x[:, t:t + x_lag] for t in range(x.shape[1] - x_lag)], dim=0)\n",
    "\n",
    "\n",
    "\n",
    "import argparse\n",
    "parser = argparse.ArgumentParser()\n",
    "# Meta parameters\n",
    "parser.add_argument('-base_dir', default='./numerical_results', type=str)\n",
    "parser.add_argument('-use_cuda', action='store_true')\n",
    "parser.add_argument('-num_seeds', default=1, type=int)\n",
    "parser.add_argument('-initial_seed', default=0, type=int)\n",
    "\n",
    "parser.add_argument('-datasets', default=['STOCKS'], nargs=\"+\")\n",
    "parser.add_argument('-algos', default=['SigCWGAN'], nargs=\"+\")\n",
    "#parser.add_argument('-datasets', default=['ARCH', 'STOCKS', 'ECG', 'VAR', ], nargs=\"+\")\n",
    "#parser.add_argument('-algos', default=['SigCWGAN', 'GMMN', 'RCGAN', 'TimeGAN', 'RCWGAN', 'CWGAN',], nargs=\"+\")\n",
    "\n",
    "# Algo hyperparameters\n",
    "parser.add_argument('-batch_size', default=200, type=int)\n",
    "parser.add_argument('-p', default=3, type=int)\n",
    "parser.add_argument('-q', default=3, type=int)\n",
    "parser.add_argument('-hidden_dims', default=3 * (50,), type=tuple)\n",
    "parser.add_argument('-total_steps', default=1000, type=int)\n",
    "#args = parser.parse_args()\n",
    "args = parser.parse_args(args=[])\n",
    "args.use_cuda=True\n",
    "\n",
    "\n",
    "\n",
    "\n",
    "print('Start of training. CUDA: %s' % args.use_cuda)\n",
    "dataset=args.datasets[0]\n",
    "algo_id=args.algos[0]\n",
    "seed=0\n",
    "base_config = BaseConfig(\n",
    "                    device='cuda:0' if args.use_cuda else 'cpu',\n",
    "                    seed=seed,\n",
    "                    batch_size=args.batch_size,\n",
    "                    hidden_dims=args.hidden_dims,\n",
    "                    p=args.p,\n",
    "                    q=args.q,\n",
    "                    total_steps=args.total_steps,\n",
    "                    mc_samples=1000,\n",
    "                )\n",
    "generator = get_dataset_configuration(dataset)\n",
    "\n",
    "\n",
    "\n",
    "\n",
    "for spec, data_params in generator:\n",
    "    print(spec, data_params)\n",
    "spec, data_params='SPX' ,{'assets': ('SPX',)}\n",
    "base_dir=args.base_dir\n",
    "print('Executing: %s, %s, %s' % (algo_id, dataset, spec))\n",
    "experiment_directory = pt.join(base_dir, dataset, spec, 'seed={}'.format(base_config.seed), algo_id)\n",
    "set_seed(base_config.seed)"
   ]
  },
  {
   "cell_type": "code",
   "execution_count": 458,
   "id": "a0a90944",
   "metadata": {},
   "outputs": [
    {
     "name": "stderr",
     "output_type": "stream",
     "text": [
      "[2021-11-12 02:30:03.040345] INFO: AiQuantDB: 读取操作：Tushare-HS300IndexDailyPrices\n"
     ]
    },
    {
     "name": "stdout",
     "output_type": "stream",
     "text": [
      "data_preprocessed.shape: torch.Size([1, 4066, 4])\n",
      "x_real.shape: torch.Size([4060, 6, 4])\n"
     ]
    }
   ],
   "source": [
    "from aiquantdb import QEData\n",
    "qeds = QEData()\n",
    "library = 'Tushare'\n",
    "table = 'HS300IndexDailyPrices'\n",
    "HS300=qeds.read(library=library, table=table, optional_col=None, optional_col_list=None, fields=None, start_date=None, end_date=None)\n",
    "\n",
    "\n",
    "price = np.log(HS300[['close']].values)\n",
    "rtn = (price[1:] - price[:-1]).reshape(1, -1, 1)\n",
    "mu,std=np.mean(rtn),np.std(rtn)\n",
    "\n",
    "\n",
    "\n",
    "\n",
    "#########\n",
    "price_name=['open','high','low']\n",
    "mu1,std1=[mu],[std]\n",
    "data_raw=rtn\n",
    "for name in price_name:\n",
    "    price1 = np.log(HS300[[name]].values)\n",
    "    rtn1 = (price1[1:] - price[:-1]).reshape(1, -1, 1)\n",
    "    mu1.append(np.mean(rtn1))\n",
    "    std1.append(np.std(rtn1))\n",
    "    data_raw= np.concatenate([data_raw, rtn1], axis=-1)\n",
    "############   \n",
    "\n",
    "\n",
    "\n",
    "#vol = np.log(HS300[['vol']].values[-rtn.shape[1]:]).reshape(1, -1, 1)\n",
    "#data_raw = np.concatenate([rtn, vol], axis=-1)\n",
    "data_raw = torch.from_numpy(data_raw).float()\n",
    "pipeline = Pipeline(steps=[('standard_scale', StandardScalerTS(axis=(0, 1)))])\n",
    "data_preprocessed = pipeline.transform(data_raw)\n",
    "assert data_preprocessed.shape[0] == 1\n",
    "x_real = rolling_window(data_preprocessed[0], base_config.p + base_config.q)\n",
    "print(\"data_preprocessed.shape:\",data_preprocessed.shape)\n",
    "print(\"x_real.shape:\",x_real.shape)"
   ]
  },
  {
   "cell_type": "code",
   "execution_count": 459,
   "id": "f6270e28",
   "metadata": {},
   "outputs": [
    {
     "name": "stderr",
     "output_type": "stream",
     "text": [
      "100%|███████████████████████████████████████| 1000/1000 [01:41<00:00,  9.87it/s]\n"
     ]
    }
   ],
   "source": [
    "x_real=x_real.to(base_config.device)\n",
    "x_real_train, x_real_test = train_test_split(x_real, train_size = 0.8)\n",
    "algo = get_algo(algo_id, base_config, dataset, data_params, x_real_train)\n",
    "algo.fit()"
   ]
  },
  {
   "cell_type": "code",
   "execution_count": 460,
   "id": "c4378f22",
   "metadata": {
    "scrolled": true
   },
   "outputs": [
    {
     "data": {
      "text/plain": [
       "SimpleGenerator(\n",
       "  (network): ResFNN(\n",
       "    (network): Sequential(\n",
       "      (0): ResidualBlock(\n",
       "        (linear): Linear(in_features=16, out_features=50, bias=True)\n",
       "        (activation): PReLU(num_parameters=1)\n",
       "      )\n",
       "      (1): ResidualBlock(\n",
       "        (linear): Linear(in_features=50, out_features=50, bias=True)\n",
       "        (activation): PReLU(num_parameters=1)\n",
       "      )\n",
       "      (2): ResidualBlock(\n",
       "        (linear): Linear(in_features=50, out_features=50, bias=True)\n",
       "        (activation): PReLU(num_parameters=1)\n",
       "      )\n",
       "      (3): Linear(in_features=50, out_features=4, bias=True)\n",
       "    )\n",
       "  )\n",
       ")"
      ]
     },
     "execution_count": 460,
     "metadata": {},
     "output_type": "execute_result"
    }
   ],
   "source": [
    "algo.G"
   ]
  },
  {
   "cell_type": "code",
   "execution_count": 461,
   "id": "aea91570",
   "metadata": {},
   "outputs": [
    {
     "data": {
      "image/png": "[encoded data removed]",
      "text/plain": [
       "<Figure size 432x288 with 1 Axes>"
      ]
     },
     "metadata": {
      "needs_background": "light"
     },
     "output_type": "display_data"
    }
   ],
   "source": [
    "#画出某个生成样本的高开低收\n",
    "\n",
    "init=np.array([HS300[['close']].values[0],HS300[['open']].values[0],HS300[['high']].values[0],HS300[['low']].values[0]]).reshape(-1)\n",
    "with torch.no_grad():\n",
    "    x_past = x_real_test[:, :base_config.p]\n",
    "    x_p = x_past.clone().repeat(5, 1, 1)\n",
    "    x_p = x_p[:1]\n",
    "    x_fake_future = algo.G.sample(2520, x_p.to(base_config.device))\n",
    "    \n",
    "    #close\n",
    "    log_return=x_fake_future[0,:,0].cpu().numpy()*std1[0]+mu1[0]\n",
    "    price = np.exp(log_return)\n",
    "    price0=(np.cumprod(price)*init[0]).reshape(-1,1)\n",
    "    plt.plot(price0)\n",
    "    price_all=price0\n",
    "    \n",
    "    for i in [1,2,3]:\n",
    "        log_return=x_fake_future[0,:,i].cpu().numpy()*std1[i]+mu1[i]\n",
    "        price = np.exp(log_return).reshape(-1,1)\n",
    "        #price=np.cumprod(price)*init[i]\n",
    "        price=price*np.vstack((init[0],price0[:-1]))\n",
    "        plt.plot(price)\n",
    "        price_all=np.hstack((price_all,price.reshape(-1,1)))\n",
    "plt.show()"
   ]
  },
  {
   "cell_type": "code",
   "execution_count": 462,
   "id": "62cab795",
   "metadata": {},
   "outputs": [
    {
     "name": "stdout",
     "output_type": "stream",
     "text": [
      "1\n",
      "0\n",
      "0\n",
      "0\n"
     ]
    }
   ],
   "source": [
    "#判断涨跌停\n",
    "for i in range(4):\n",
    "    rate=(price_all[1:,i]-price_all[:-1,i])/price_all[:-1,i]\n",
    "    print(sum(abs(rate)>0.1))"
   ]
  },
  {
   "cell_type": "code",
   "execution_count": 463,
   "id": "3c59b5ee",
   "metadata": {},
   "outputs": [
    {
     "data": {
      "application/vnd.plotly.v1+json": {
       "config": {
        "linkText": "Export to plot.ly",
        "plotlyServerURL": "https://plot.ly",
        "showLink": false
       },
       "data": [
        {
         "close": [
          58355.90625,
          57973.3125,
          57738.578125,
          58110.359375,
          57981.8515625,
          57607,
          57970.76953125,
          58091.41015625,
          57933.51171875,
          57584.52734375,
          57231.640625,
          57987.21484375,
          58084.12890625,
          55353.89453125,
          57392.6328125,
          57960.94921875,
          58387.23828125,
          58337.80859375,
          58919.0390625,
          57880.1484375,
          57486.34375,
          56410.0625,
          56797.546875,
          56364.74609375,
          57789.421875,
          59444.23828125,
          59624.00390625,
          60071.69921875,
          60079.0625,
          60027.76171875,
          59421.40625,
          59967.1640625,
          60375.15234375,
          60071.33203125,
          59759.31640625,
          60158.21484375,
          60473.3203125,
          61323.4296875,
          60524.56640625,
          60776.22265625,
          61201.59375,
          61448.0390625,
          61315.87109375,
          61511.97265625,
          61342.578125,
          61745.69921875,
          62866.44140625,
          63208.09765625,
          64215.44140625,
          63835.69921875,
          64555.78125,
          64757.4296875,
          64270.59765625,
          64509.609375,
          64728.04296875,
          64532.78515625,
          63492.3359375,
          63653.66796875,
          63005.37890625,
          62829.37109375,
          62317.6875,
          62080.42578125,
          63285.140625,
          63649.40234375,
          64126.41015625,
          64081.08984375,
          63703.04296875,
          63475.6171875,
          63883.41796875,
          63542.43359375,
          63062.3359375,
          62699.625,
          63048.08984375,
          62327.46875,
          62093.2421875,
          62534.92578125,
          62111.52734375,
          62129.71875,
          61805.5859375,
          61948.8515625,
          61661.30078125,
          61084.25,
          60771.765625,
          61077.2265625,
          60331.3671875,
          60382.06640625,
          58246.16796875,
          57974.03515625,
          57610.41015625,
          57362.85546875,
          58289.61328125,
          61140.6875,
          60289.3671875,
          61968.3203125,
          61661.48046875,
          60211.078125,
          57140.15234375,
          57771.5859375,
          58693.05859375,
          60081.921875
         ],
         "decreasing": {
          "fillcolor": "#3D9970",
          "line": {
           "color": "#3D9970"
          }
         },
         "high": [
          58788.789569325745,
          58431.85803895444,
          58164.061835087836,
          58090.5872262083,
          58558.486066337675,
          57925.436019843444,
          57973.4248354435,
          58299.05325076729,
          58201.788300809916,
          58006.738292783964,
          57628.0215164721,
          57763.103096652776,
          58528.72142767906,
          56576.71681651147,
          57112.55984363379,
          58216.01509250235,
          58680.136635939125,
          58757.90216105338,
          59383.62648534123,
          58792.34561984427,
          58011.67340439744,
          57498.67212824896,
          57146.89075186849,
          57122.375775257125,
          58380.338514980394,
          59385.00526372343,
          59890.01649589045,
          60137.75811032625,
          60556.40574375633,
          60156.949058137834,
          60158.11298888549,
          59760.83032647148,
          60607.41082903929,
          60378.765377816744,
          60276.88312084973,
          60110.13829418924,
          60546.76227381639,
          61473.99904162623,
          61448.545856845565,
          60792.065888823476,
          61612.56690294109,
          61547.54592376202,
          61786.9750060346,
          61730.00829320308,
          61875.686797585804,
          61822.21189728007,
          62522.749472513795,
          63403.93000717834,
          64316.01280104928,
          64571.264702253975,
          64883.88183094142,
          65108.63666117191,
          64895.85911812261,
          64793.46711648116,
          65013.006247244775,
          65013.642087745946,
          64237.61214303342,
          64084.36586960498,
          63658.9796447251,
          63482.89471992524,
          63149.030175317544,
          62552.87737519294,
          63442.85471170861,
          64197.269303234294,
          64320.753194734454,
          64770.79258748423,
          64328.328059291,
          64151.93157731602,
          64142.65307787806,
          64216.52741734637,
          63736.675430374686,
          63375.008633174,
          63141.338301971555,
          63464.85501264641,
          62307.17366875522,
          62648.85056159925,
          62669.18572203163,
          62398.35399559047,
          62291.03100518882,
          62161.42857361119,
          62250.760168740526,
          61594.447075533215,
          61458.18550944328,
          61097.676600953564,
          61856.73478996847,
          60632.13911244646,
          59725.12071708846,
          58793.95333235152,
          58866.06427952321,
          57955.88960682275,
          58253.994093772955,
          60871.986747907475,
          61743.034139283,
          62242.85121461935,
          62691.94820795674,
          61654.47165136016,
          59176.10834491253,
          58740.1786204502,
          59893.03649327438,
          60989.92626272701
         ],
         "increasing": {
          "fillcolor": "#FF4136",
          "line": {
           "color": "#FF4136"
          }
         },
         "low": [
          58081.93331615999,
          57882.644099939615,
          57669.28220675513,
          57875.56997399591,
          57829.651540923864,
          57482.502816643566,
          57768.655995845795,
          57767.357878712704,
          58006.391492547,
          57460.8159854901,
          57071.572749436134,
          57448.22908202186,
          57787.858492554864,
          54701.039403379196,
          55615.56591792544,
          57111.00647539366,
          57475.571816358715,
          57921.61501225224,
          58133.887944163056,
          57634.07129444042,
          56960.38099967362,
          56057.396308455616,
          56071.01471743733,
          55997.3946093265,
          56966.18852467509,
          58043.475741852075,
          59172.44303711923,
          59568.872758591315,
          59774.291384189855,
          59707.907088287175,
          59122.79502037028,
          59444.46331469342,
          59680.707213553134,
          60103.847312548896,
          59234.90938660526,
          59734.30095201009,
          60084.01935258228,
          60375.25293196784,
          60378.4462307198,
          60240.07538540382,
          60437.083600708516,
          60919.46157370694,
          61178.2820913177,
          61227.083551624324,
          61048.72677367064,
          61261.86890187673,
          61748.20184346847,
          62650.81644771807,
          63502.16580524808,
          63603.39119547908,
          63848.24779272219,
          64177.101458553225,
          64085.878659799695,
          64405.48870639037,
          64306.416526590474,
          64260.85889129806,
          63222.27913626074,
          62862.136162420735,
          63185.25023477734,
          62615.34544373606,
          61871.37501870189,
          61525.87638665736,
          61954.72721101111,
          62894.18630248681,
          63444.01739223697,
          63360.125283090165,
          63328.607940374175,
          62978.6746159005,
          63122.289142018184,
          63365.03109680023,
          62610.16291864705,
          62329.330763627775,
          62577.59457164258,
          62006.36106149992,
          61897.664772417396,
          62157.89945489261,
          61967.347659022314,
          61849.53831913858,
          61802.88738191128,
          61409.124620044604,
          61537.69106249884,
          60789.644598180894,
          60124.08873195946,
          60702.96404813044,
          59993.78868801519,
          59858.75538683031,
          57574.77735105716,
          56780.33246936812,
          57201.8919053236,
          56422.27126614191,
          56763.57059007045,
          58568.46314298827,
          59985.42508560419,
          60975.00482133869,
          60993.453764119186,
          59699.71725923754,
          56315.751097535715,
          55925.89290914801,
          56925.1468554209,
          58380.247545288876
         ],
         "open": [
          58432.547743432224,
          58473.30525992811,
          58155.81706291437,
          57694.303389097564,
          58235.75033557974,
          58187.275469355285,
          57698.300614476204,
          57946.03284436022,
          58078.76157848234,
          58168.84782520868,
          57788.378819942474,
          57312.33084364794,
          57969.49435600615,
          56200.09402265423,
          55433.91034854483,
          57259.36607763311,
          57857.4831569104,
          58283.42190878582,
          58632.40430138586,
          58283.28563591698,
          57906.906061129645,
          57402.65605951846,
          56456.132758401334,
          56685.307402784005,
          57724.927458912134,
          58134.77613496967,
          59671.12760797609,
          59644.06193483155,
          60146.00283993408,
          59847.09305342287,
          60288.65031155851,
          59375.40899974294,
          59980.932348964736,
          60359.75736393174,
          60478.47414381942,
          59754.8390566872,
          60193.153992500156,
          60368.60625097761,
          61434.46617573779,
          60548.98227271065,
          60740.33772387309,
          61072.48000376299,
          61529.033545483835,
          61285.78551513888,
          61553.974926397204,
          61272.39174069837,
          61715.86645997362,
          62719.478892805986,
          63511.73524561571,
          64127.982149831485,
          63778.17287251423,
          64381.474804244936,
          65060.25757643953,
          64568.19921597978,
          64434.34208372142,
          64917.097193333786,
          63978.38423997606,
          63811.28081417922,
          63764.74270149786,
          63408.46242973348,
          62601.807142503094,
          62175.165065445006,
          62107.27502545528,
          63395.9117707964,
          63703.50951959053,
          64108.32717714016,
          64189.83951890655,
          63616.30056663626,
          63325.119446964,
          63933.57363113668,
          63661.30568914255,
          63099.59324370697,
          62710.1339751184,
          63415.61071792478,
          62442.262455008924,
          62165.30894827098,
          62419.164787889225,
          62202.90345274797,
          62186.18544575572,
          61628.777157242876,
          62033.666893028654,
          61294.08686409844,
          61373.607285767794,
          60678.58972935844,
          61526.56451703049,
          60145.2978222142,
          60009.80570014729,
          58749.223406474106,
          58460.648643182125,
          57200.975286067696,
          56996.841603402514,
          58510.67110959487,
          60895.97119508311,
          61278.377499898896,
          62016.96502080653,
          60787.054236671655,
          58598.187053762376,
          56628.10115812579,
          58098.47310716193,
          58798.562704865355
         ],
         "type": "candlestick"
        }
       ],
       "layout": {
        "template": {
         "data": {
          "bar": [
           {
            "error_x": {
             "color": "#2a3f5f"
            },
            "error_y": {
             "color": "#2a3f5f"
            },
            "marker": {
             "line": {
              "color": "#E5ECF6",
              "width": 0.5
             },
             "pattern": {
              "fillmode": "overlay",
              "size": 10,
              "solidity": 0.2
             }
            },
            "type": "bar"
           }
          ],
          "barpolar": [
           {
            "marker": {
             "line": {
              "color": "#E5ECF6",
              "width": 0.5
             },
             "pattern": {
              "fillmode": "overlay",
              "size": 10,
              "solidity": 0.2
             }
            },
            "type": "barpolar"
           }
          ],
          "carpet": [
           {
            "aaxis": {
             "endlinecolor": "#2a3f5f",
             "gridcolor": "white",
             "linecolor": "white",
             "minorgridcolor": "white",
             "startlinecolor": "#2a3f5f"
            },
            "baxis": {
             "endlinecolor": "#2a3f5f",
             "gridcolor": "white",
             "linecolor": "white",
             "minorgridcolor": "white",
             "startlinecolor": "#2a3f5f"
            },
            "type": "carpet"
           }
          ],
          "choropleth": [
           {
            "colorbar": {
             "outlinewidth": 0,
             "ticks": ""
            },
            "type": "choropleth"
           }
          ],
          "contour": [
           {
            "colorbar": {
             "outlinewidth": 0,
             "ticks": ""
            },
            "colorscale": [
             [
              0,
              "#0d0887"
             ],
             [
              0.1111111111111111,
              "#46039f"
             ],
             [
              0.2222222222222222,
              "#7201a8"
             ],
             [
              0.3333333333333333,
              "#9c179e"
             ],
             [
              0.4444444444444444,
              "#bd3786"
             ],
             [
              0.5555555555555556,
              "#d8576b"
             ],
             [
              0.6666666666666666,
              "#ed7953"
             ],
             [
              0.7777777777777778,
              "#fb9f3a"
             ],
             [
              0.8888888888888888,
              "#fdca26"
             ],
             [
              1,
              "#f0f921"
             ]
            ],
            "type": "contour"
           }
          ],
          "contourcarpet": [
           {
            "colorbar": {
             "outlinewidth": 0,
             "ticks": ""
            },
            "type": "contourcarpet"
           }
          ],
          "heatmap": [
           {
            "colorbar": {
             "outlinewidth": 0,
             "ticks": ""
            },
            "colorscale": [
             [
              0,
              "#0d0887"
             ],
             [
              0.1111111111111111,
              "#46039f"
             ],
             [
              0.2222222222222222,
              "#7201a8"
             ],
             [
              0.3333333333333333,
              "#9c179e"
             ],
             [
              0.4444444444444444,
              "#bd3786"
             ],
             [
              0.5555555555555556,
              "#d8576b"
             ],
             [
              0.6666666666666666,
              "#ed7953"
             ],
             [
              0.7777777777777778,
              "#fb9f3a"
             ],
             [
              0.8888888888888888,
              "#fdca26"
             ],
             [
              1,
              "#f0f921"
             ]
            ],
            "type": "heatmap"
           }
          ],
          "heatmapgl": [
           {
            "colorbar": {
             "outlinewidth": 0,
             "ticks": ""
            },
            "colorscale": [
             [
              0,
              "#0d0887"
             ],
             [
              0.1111111111111111,
              "#46039f"
             ],
             [
              0.2222222222222222,
              "#7201a8"
             ],
             [
              0.3333333333333333,
              "#9c179e"
             ],
             [
              0.4444444444444444,
              "#bd3786"
             ],
             [
              0.5555555555555556,
              "#d8576b"
             ],
             [
              0.6666666666666666,
              "#ed7953"
             ],
             [
              0.7777777777777778,
              "#fb9f3a"
             ],
             [
              0.8888888888888888,
              "#fdca26"
             ],
             [
              1,
              "#f0f921"
             ]
            ],
            "type": "heatmapgl"
           }
          ],
          "histogram": [
           {
            "marker": {
             "pattern": {
              "fillmode": "overlay",
              "size": 10,
              "solidity": 0.2
             }
            },
            "type": "histogram"
           }
          ],
          "histogram2d": [
           {
            "colorbar": {
             "outlinewidth": 0,
             "ticks": ""
            },
            "colorscale": [
             [
              0,
              "#0d0887"
             ],
             [
              0.1111111111111111,
              "#46039f"
             ],
             [
              0.2222222222222222,
              "#7201a8"
             ],
             [
              0.3333333333333333,
              "#9c179e"
             ],
             [
              0.4444444444444444,
              "#bd3786"
             ],
             [
              0.5555555555555556,
              "#d8576b"
             ],
             [
              0.6666666666666666,
              "#ed7953"
             ],
             [
              0.7777777777777778,
              "#fb9f3a"
             ],
             [
              0.8888888888888888,
              "#fdca26"
             ],
             [
              1,
              "#f0f921"
             ]
            ],
            "type": "histogram2d"
           }
          ],
          "histogram2dcontour": [
           {
            "colorbar": {
             "outlinewidth": 0,
             "ticks": ""
            },
            "colorscale": [
             [
              0,
              "#0d0887"
             ],
             [
              0.1111111111111111,
              "#46039f"
             ],
             [
              0.2222222222222222,
              "#7201a8"
             ],
             [
              0.3333333333333333,
              "#9c179e"
             ],
             [
              0.4444444444444444,
              "#bd3786"
             ],
             [
              0.5555555555555556,
              "#d8576b"
             ],
             [
              0.6666666666666666,
              "#ed7953"
             ],
             [
              0.7777777777777778,
              "#fb9f3a"
             ],
             [
              0.8888888888888888,
              "#fdca26"
             ],
             [
              1,
              "#f0f921"
             ]
            ],
            "type": "histogram2dcontour"
           }
          ],
          "mesh3d": [
           {
            "colorbar": {
             "outlinewidth": 0,
             "ticks": ""
            },
            "type": "mesh3d"
           }
          ],
          "parcoords": [
           {
            "line": {
             "colorbar": {
              "outlinewidth": 0,
              "ticks": ""
             }
            },
            "type": "parcoords"
           }
          ],
          "pie": [
           {
            "automargin": true,
            "type": "pie"
           }
          ],
          "scatter": [
           {
            "marker": {
             "colorbar": {
              "outlinewidth": 0,
              "ticks": ""
             }
            },
            "type": "scatter"
           }
          ],
          "scatter3d": [
           {
            "line": {
             "colorbar": {
              "outlinewidth": 0,
              "ticks": ""
             }
            },
            "marker": {
             "colorbar": {
              "outlinewidth": 0,
              "ticks": ""
             }
            },
            "type": "scatter3d"
           }
          ],
          "scattercarpet": [
           {
            "marker": {
             "colorbar": {
              "outlinewidth": 0,
              "ticks": ""
             }
            },
            "type": "scattercarpet"
           }
          ],
          "scattergeo": [
           {
            "marker": {
             "colorbar": {
              "outlinewidth": 0,
              "ticks": ""
             }
            },
            "type": "scattergeo"
           }
          ],
          "scattergl": [
           {
            "marker": {
             "colorbar": {
              "outlinewidth": 0,
              "ticks": ""
             }
            },
            "type": "scattergl"
           }
          ],
          "scattermapbox": [
           {
            "marker": {
             "colorbar": {
              "outlinewidth": 0,
              "ticks": ""
             }
            },
            "type": "scattermapbox"
           }
          ],
          "scatterpolar": [
           {
            "marker": {
             "colorbar": {
              "outlinewidth": 0,
              "ticks": ""
             }
            },
            "type": "scatterpolar"
           }
          ],
          "scatterpolargl": [
           {
            "marker": {
             "colorbar": {
              "outlinewidth": 0,
              "ticks": ""
             }
            },
            "type": "scatterpolargl"
           }
          ],
          "scatterternary": [
           {
            "marker": {
             "colorbar": {
              "outlinewidth": 0,
              "ticks": ""
             }
            },
            "type": "scatterternary"
           }
          ],
          "surface": [
           {
            "colorbar": {
             "outlinewidth": 0,
             "ticks": ""
            },
            "colorscale": [
             [
              0,
              "#0d0887"
             ],
             [
              0.1111111111111111,
              "#46039f"
             ],
             [
              0.2222222222222222,
              "#7201a8"
             ],
             [
              0.3333333333333333,
              "#9c179e"
             ],
             [
              0.4444444444444444,
              "#bd3786"
             ],
             [
              0.5555555555555556,
              "#d8576b"
             ],
             [
              0.6666666666666666,
              "#ed7953"
             ],
             [
              0.7777777777777778,
              "#fb9f3a"
             ],
             [
              0.8888888888888888,
              "#fdca26"
             ],
             [
              1,
              "#f0f921"
             ]
            ],
            "type": "surface"
           }
          ],
          "table": [
           {
            "cells": {
             "fill": {
              "color": "#EBF0F8"
             },
             "line": {
              "color": "white"
             }
            },
            "header": {
             "fill": {
              "color": "#C8D4E3"
             },
             "line": {
              "color": "white"
             }
            },
            "type": "table"
           }
          ]
         },
         "layout": {
          "annotationdefaults": {
           "arrowcolor": "#2a3f5f",
           "arrowhead": 0,
           "arrowwidth": 1
          },
          "autotypenumbers": "strict",
          "coloraxis": {
           "colorbar": {
            "outlinewidth": 0,
            "ticks": ""
           }
          },
          "colorscale": {
           "diverging": [
            [
             0,
             "#8e0152"
            ],
            [
             0.1,
             "#c51b7d"
            ],
            [
             0.2,
             "#de77ae"
            ],
            [
             0.3,
             "#f1b6da"
            ],
            [
             0.4,
             "#fde0ef"
            ],
            [
             0.5,
             "#f7f7f7"
            ],
            [
             0.6,
             "#e6f5d0"
            ],
            [
             0.7,
             "#b8e186"
            ],
            [
             0.8,
             "#7fbc41"
            ],
            [
             0.9,
             "#4d9221"
            ],
            [
             1,
             "#276419"
            ]
           ],
           "sequential": [
            [
             0,
             "#0d0887"
            ],
            [
             0.1111111111111111,
             "#46039f"
            ],
            [
             0.2222222222222222,
             "#7201a8"
            ],
            [
             0.3333333333333333,
             "#9c179e"
            ],
            [
             0.4444444444444444,
             "#bd3786"
            ],
            [
             0.5555555555555556,
             "#d8576b"
            ],
            [
             0.6666666666666666,
             "#ed7953"
            ],
            [
             0.7777777777777778,
             "#fb9f3a"
            ],
            [
             0.8888888888888888,
             "#fdca26"
            ],
            [
             1,
             "#f0f921"
            ]
           ],
           "sequentialminus": [
            [
             0,
             "#0d0887"
            ],
            [
             0.1111111111111111,
             "#46039f"
            ],
            [
             0.2222222222222222,
             "#7201a8"
            ],
            [
             0.3333333333333333,
             "#9c179e"
            ],
            [
             0.4444444444444444,
             "#bd3786"
            ],
            [
             0.5555555555555556,
             "#d8576b"
            ],
            [
             0.6666666666666666,
             "#ed7953"
            ],
            [
             0.7777777777777778,
             "#fb9f3a"
            ],
            [
             0.8888888888888888,
             "#fdca26"
            ],
            [
             1,
             "#f0f921"
            ]
           ]
          },
          "colorway": [
           "#636efa",
           "#EF553B",
           "#00cc96",
           "#ab63fa",
           "#FFA15A",
           "#19d3f3",
           "#FF6692",
           "#B6E880",
           "#FF97FF",
           "#FECB52"
          ],
          "font": {
           "color": "#2a3f5f"
          },
          "geo": {
           "bgcolor": "white",
           "lakecolor": "white",
           "landcolor": "#E5ECF6",
           "showlakes": true,
           "showland": true,
           "subunitcolor": "white"
          },
          "hoverlabel": {
           "align": "left"
          },
          "hovermode": "closest",
          "mapbox": {
           "style": "light"
          },
          "paper_bgcolor": "white",
          "plot_bgcolor": "#E5ECF6",
          "polar": {
           "angularaxis": {
            "gridcolor": "white",
            "linecolor": "white",
            "ticks": ""
           },
           "bgcolor": "#E5ECF6",
           "radialaxis": {
            "gridcolor": "white",
            "linecolor": "white",
            "ticks": ""
           }
          },
          "scene": {
           "xaxis": {
            "backgroundcolor": "#E5ECF6",
            "gridcolor": "white",
            "gridwidth": 2,
            "linecolor": "white",
            "showbackground": true,
            "ticks": "",
            "zerolinecolor": "white"
           },
           "yaxis": {
            "backgroundcolor": "#E5ECF6",
            "gridcolor": "white",
            "gridwidth": 2,
            "linecolor": "white",
            "showbackground": true,
            "ticks": "",
            "zerolinecolor": "white"
           },
           "zaxis": {
            "backgroundcolor": "#E5ECF6",
            "gridcolor": "white",
            "gridwidth": 2,
            "linecolor": "white",
            "showbackground": true,
            "ticks": "",
            "zerolinecolor": "white"
           }
          },
          "shapedefaults": {
           "line": {
            "color": "#2a3f5f"
           }
          },
          "ternary": {
           "aaxis": {
            "gridcolor": "white",
            "linecolor": "white",
            "ticks": ""
           },
           "baxis": {
            "gridcolor": "white",
            "linecolor": "white",
            "ticks": ""
           },
           "bgcolor": "#E5ECF6",
           "caxis": {
            "gridcolor": "white",
            "linecolor": "white",
            "ticks": ""
           }
          },
          "title": {
           "x": 0.05
          },
          "xaxis": {
           "automargin": true,
           "gridcolor": "white",
           "linecolor": "white",
           "ticks": "",
           "title": {
            "standoff": 15
           },
           "zerolinecolor": "white",
           "zerolinewidth": 2
          },
          "yaxis": {
           "automargin": true,
           "gridcolor": "white",
           "linecolor": "white",
           "ticks": "",
           "title": {
            "standoff": 15
           },
           "zerolinecolor": "white",
           "zerolinewidth": 2
          }
         }
        }
       }
      },
      "text/html": [
       "<div>                            <div id=\"9dfa8f01-b65c-4bb4-a4b6-f4433436d222\" class=\"plotly-graph-div\" style=\"height:525px; width:100%;\"></div>            <script type=\"text/javascript\">                require([\"plotly\"], function(Plotly) {                    window.PLOTLYENV=window.PLOTLYENV || {};                                    if (document.getElementById(\"9dfa8f01-b65c-4bb4-a4b6-f4433436d222\")) {                    Plotly.newPlot(                        \"9dfa8f01-b65c-4bb4-a4b6-f4433436d222\",                        [{\"close\":[58355.90625,57973.3125,57738.578125,58110.359375,57981.8515625,57607.0,57970.76953125,58091.41015625,57933.51171875,57584.52734375,57231.640625,57987.21484375,58084.12890625,55353.89453125,57392.6328125,57960.94921875,58387.23828125,58337.80859375,58919.0390625,57880.1484375,57486.34375,56410.0625,56797.546875,56364.74609375,57789.421875,59444.23828125,59624.00390625,60071.69921875,60079.0625,60027.76171875,59421.40625,59967.1640625,60375.15234375,60071.33203125,59759.31640625,60158.21484375,60473.3203125,61323.4296875,60524.56640625,60776.22265625,61201.59375,61448.0390625,61315.87109375,61511.97265625,61342.578125,61745.69921875,62866.44140625,63208.09765625,64215.44140625,63835.69921875,64555.78125,64757.4296875,64270.59765625,64509.609375,64728.04296875,64532.78515625,63492.3359375,63653.66796875,63005.37890625,62829.37109375,62317.6875,62080.42578125,63285.140625,63649.40234375,64126.41015625,64081.08984375,63703.04296875,63475.6171875,63883.41796875,63542.43359375,63062.3359375,62699.625,63048.08984375,62327.46875,62093.2421875,62534.92578125,62111.52734375,62129.71875,61805.5859375,61948.8515625,61661.30078125,61084.25,60771.765625,61077.2265625,60331.3671875,60382.06640625,58246.16796875,57974.03515625,57610.41015625,57362.85546875,58289.61328125,61140.6875,60289.3671875,61968.3203125,61661.48046875,60211.078125,57140.15234375,57771.5859375,58693.05859375,60081.921875],\"decreasing\":{\"fillcolor\":\"#3D9970\",\"line\":{\"color\":\"#3D9970\"}},\"high\":[58788.789569325745,58431.85803895444,58164.061835087836,58090.5872262083,58558.486066337675,57925.436019843444,57973.4248354435,58299.05325076729,58201.788300809916,58006.738292783964,57628.0215164721,57763.103096652776,58528.72142767906,56576.71681651147,57112.55984363379,58216.01509250235,58680.136635939125,58757.90216105338,59383.62648534123,58792.34561984427,58011.67340439744,57498.67212824896,57146.89075186849,57122.375775257125,58380.338514980394,59385.00526372343,59890.01649589045,60137.75811032625,60556.40574375633,60156.949058137834,60158.11298888549,59760.83032647148,60607.41082903929,60378.765377816744,60276.88312084973,60110.13829418924,60546.76227381639,61473.99904162623,61448.545856845565,60792.065888823476,61612.56690294109,61547.54592376202,61786.9750060346,61730.00829320308,61875.686797585804,61822.21189728007,62522.749472513795,63403.93000717834,64316.01280104928,64571.264702253975,64883.88183094142,65108.63666117191,64895.85911812261,64793.46711648116,65013.006247244775,65013.642087745946,64237.61214303342,64084.36586960498,63658.9796447251,63482.89471992524,63149.030175317544,62552.87737519294,63442.85471170861,64197.269303234294,64320.753194734454,64770.79258748423,64328.328059291,64151.93157731602,64142.65307787806,64216.52741734637,63736.675430374686,63375.008633174,63141.338301971555,63464.85501264641,62307.17366875522,62648.85056159925,62669.18572203163,62398.35399559047,62291.03100518882,62161.42857361119,62250.760168740526,61594.447075533215,61458.18550944328,61097.676600953564,61856.73478996847,60632.13911244646,59725.12071708846,58793.95333235152,58866.06427952321,57955.88960682275,58253.994093772955,60871.986747907475,61743.034139283,62242.85121461935,62691.94820795674,61654.47165136016,59176.10834491253,58740.1786204502,59893.03649327438,60989.92626272701],\"increasing\":{\"fillcolor\":\"#FF4136\",\"line\":{\"color\":\"#FF4136\"}},\"low\":[58081.93331615999,57882.644099939615,57669.28220675513,57875.56997399591,57829.651540923864,57482.502816643566,57768.655995845795,57767.357878712704,58006.391492547,57460.8159854901,57071.572749436134,57448.22908202186,57787.858492554864,54701.039403379196,55615.56591792544,57111.00647539366,57475.571816358715,57921.61501225224,58133.887944163056,57634.07129444042,56960.38099967362,56057.396308455616,56071.01471743733,55997.3946093265,56966.18852467509,58043.475741852075,59172.44303711923,59568.872758591315,59774.291384189855,59707.907088287175,59122.79502037028,59444.46331469342,59680.707213553134,60103.847312548896,59234.90938660526,59734.30095201009,60084.01935258228,60375.25293196784,60378.4462307198,60240.07538540382,60437.083600708516,60919.46157370694,61178.2820913177,61227.083551624324,61048.72677367064,61261.86890187673,61748.20184346847,62650.81644771807,63502.16580524808,63603.39119547908,63848.24779272219,64177.101458553225,64085.878659799695,64405.48870639037,64306.416526590474,64260.85889129806,63222.27913626074,62862.136162420735,63185.25023477734,62615.34544373606,61871.37501870189,61525.87638665736,61954.72721101111,62894.18630248681,63444.01739223697,63360.125283090165,63328.607940374175,62978.6746159005,63122.289142018184,63365.03109680023,62610.16291864705,62329.330763627775,62577.59457164258,62006.36106149992,61897.664772417396,62157.89945489261,61967.347659022314,61849.53831913858,61802.88738191128,61409.124620044604,61537.69106249884,60789.644598180894,60124.08873195946,60702.96404813044,59993.78868801519,59858.75538683031,57574.77735105716,56780.33246936812,57201.8919053236,56422.27126614191,56763.57059007045,58568.46314298827,59985.42508560419,60975.00482133869,60993.453764119186,59699.71725923754,56315.751097535715,55925.89290914801,56925.1468554209,58380.247545288876],\"open\":[58432.547743432224,58473.30525992811,58155.81706291437,57694.303389097564,58235.75033557974,58187.275469355285,57698.300614476204,57946.03284436022,58078.76157848234,58168.84782520868,57788.378819942474,57312.33084364794,57969.49435600615,56200.09402265423,55433.91034854483,57259.36607763311,57857.4831569104,58283.42190878582,58632.40430138586,58283.28563591698,57906.906061129645,57402.65605951846,56456.132758401334,56685.307402784005,57724.927458912134,58134.77613496967,59671.12760797609,59644.06193483155,60146.00283993408,59847.09305342287,60288.65031155851,59375.40899974294,59980.932348964736,60359.75736393174,60478.47414381942,59754.8390566872,60193.153992500156,60368.60625097761,61434.46617573779,60548.98227271065,60740.33772387309,61072.48000376299,61529.033545483835,61285.78551513888,61553.974926397204,61272.39174069837,61715.86645997362,62719.478892805986,63511.73524561571,64127.982149831485,63778.17287251423,64381.474804244936,65060.25757643953,64568.19921597978,64434.34208372142,64917.097193333786,63978.38423997606,63811.28081417922,63764.74270149786,63408.46242973348,62601.807142503094,62175.165065445006,62107.27502545528,63395.9117707964,63703.50951959053,64108.32717714016,64189.83951890655,63616.30056663626,63325.119446964,63933.57363113668,63661.30568914255,63099.59324370697,62710.1339751184,63415.61071792478,62442.262455008924,62165.30894827098,62419.164787889225,62202.90345274797,62186.18544575572,61628.777157242876,62033.666893028654,61294.08686409844,61373.607285767794,60678.58972935844,61526.56451703049,60145.2978222142,60009.80570014729,58749.223406474106,58460.648643182125,57200.975286067696,56996.841603402514,58510.67110959487,60895.97119508311,61278.377499898896,62016.96502080653,60787.054236671655,58598.187053762376,56628.10115812579,58098.47310716193,58798.562704865355],\"type\":\"candlestick\"}],                        {\"template\":{\"data\":{\"bar\":[{\"error_x\":{\"color\":\"#2a3f5f\"},\"error_y\":{\"color\":\"#2a3f5f\"},\"marker\":{\"line\":{\"color\":\"#E5ECF6\",\"width\":0.5},\"pattern\":{\"fillmode\":\"overlay\",\"size\":10,\"solidity\":0.2}},\"type\":\"bar\"}],\"barpolar\":[{\"marker\":{\"line\":{\"color\":\"#E5ECF6\",\"width\":0.5},\"pattern\":{\"fillmode\":\"overlay\",\"size\":10,\"solidity\":0.2}},\"type\":\"barpolar\"}],\"carpet\":[{\"aaxis\":{\"endlinecolor\":\"#2a3f5f\",\"gridcolor\":\"white\",\"linecolor\":\"white\",\"minorgridcolor\":\"white\",\"startlinecolor\":\"#2a3f5f\"},\"baxis\":{\"endlinecolor\":\"#2a3f5f\",\"gridcolor\":\"white\",\"linecolor\":\"white\",\"minorgridcolor\":\"white\",\"startlinecolor\":\"#2a3f5f\"},\"type\":\"carpet\"}],\"choropleth\":[{\"colorbar\":{\"outlinewidth\":0,\"ticks\":\"\"},\"type\":\"choropleth\"}],\"contour\":[{\"colorbar\":{\"outlinewidth\":0,\"ticks\":\"\"},\"colorscale\":[[0.0,\"#0d0887\"],[0.1111111111111111,\"#46039f\"],[0.2222222222222222,\"#7201a8\"],[0.3333333333333333,\"#9c179e\"],[0.4444444444444444,\"#bd3786\"],[0.5555555555555556,\"#d8576b\"],[0.6666666666666666,\"#ed7953\"],[0.7777777777777778,\"#fb9f3a\"],[0.8888888888888888,\"#fdca26\"],[1.0,\"#f0f921\"]],\"type\":\"contour\"}],\"contourcarpet\":[{\"colorbar\":{\"outlinewidth\":0,\"ticks\":\"\"},\"type\":\"contourcarpet\"}],\"heatmap\":[{\"colorbar\":{\"outlinewidth\":0,\"ticks\":\"\"},\"colorscale\":[[0.0,\"#0d0887\"],[0.1111111111111111,\"#46039f\"],[0.2222222222222222,\"#7201a8\"],[0.3333333333333333,\"#9c179e\"],[0.4444444444444444,\"#bd3786\"],[0.5555555555555556,\"#d8576b\"],[0.6666666666666666,\"#ed7953\"],[0.7777777777777778,\"#fb9f3a\"],[0.8888888888888888,\"#fdca26\"],[1.0,\"#f0f921\"]],\"type\":\"heatmap\"}],\"heatmapgl\":[{\"colorbar\":{\"outlinewidth\":0,\"ticks\":\"\"},\"colorscale\":[[0.0,\"#0d0887\"],[0.1111111111111111,\"#46039f\"],[0.2222222222222222,\"#7201a8\"],[0.3333333333333333,\"#9c179e\"],[0.4444444444444444,\"#bd3786\"],[0.5555555555555556,\"#d8576b\"],[0.6666666666666666,\"#ed7953\"],[0.7777777777777778,\"#fb9f3a\"],[0.8888888888888888,\"#fdca26\"],[1.0,\"#f0f921\"]],\"type\":\"heatmapgl\"}],\"histogram\":[{\"marker\":{\"pattern\":{\"fillmode\":\"overlay\",\"size\":10,\"solidity\":0.2}},\"type\":\"histogram\"}],\"histogram2d\":[{\"colorbar\":{\"outlinewidth\":0,\"ticks\":\"\"},\"colorscale\":[[0.0,\"#0d0887\"],[0.1111111111111111,\"#46039f\"],[0.2222222222222222,\"#7201a8\"],[0.3333333333333333,\"#9c179e\"],[0.4444444444444444,\"#bd3786\"],[0.5555555555555556,\"#d8576b\"],[0.6666666666666666,\"#ed7953\"],[0.7777777777777778,\"#fb9f3a\"],[0.8888888888888888,\"#fdca26\"],[1.0,\"#f0f921\"]],\"type\":\"histogram2d\"}],\"histogram2dcontour\":[{\"colorbar\":{\"outlinewidth\":0,\"ticks\":\"\"},\"colorscale\":[[0.0,\"#0d0887\"],[0.1111111111111111,\"#46039f\"],[0.2222222222222222,\"#7201a8\"],[0.3333333333333333,\"#9c179e\"],[0.4444444444444444,\"#bd3786\"],[0.5555555555555556,\"#d8576b\"],[0.6666666666666666,\"#ed7953\"],[0.7777777777777778,\"#fb9f3a\"],[0.8888888888888888,\"#fdca26\"],[1.0,\"#f0f921\"]],\"type\":\"histogram2dcontour\"}],\"mesh3d\":[{\"colorbar\":{\"outlinewidth\":0,\"ticks\":\"\"},\"type\":\"mesh3d\"}],\"parcoords\":[{\"line\":{\"colorbar\":{\"outlinewidth\":0,\"ticks\":\"\"}},\"type\":\"parcoords\"}],\"pie\":[{\"automargin\":true,\"type\":\"pie\"}],\"scatter\":[{\"marker\":{\"colorbar\":{\"outlinewidth\":0,\"ticks\":\"\"}},\"type\":\"scatter\"}],\"scatter3d\":[{\"line\":{\"colorbar\":{\"outlinewidth\":0,\"ticks\":\"\"}},\"marker\":{\"colorbar\":{\"outlinewidth\":0,\"ticks\":\"\"}},\"type\":\"scatter3d\"}],\"scattercarpet\":[{\"marker\":{\"colorbar\":{\"outlinewidth\":0,\"ticks\":\"\"}},\"type\":\"scattercarpet\"}],\"scattergeo\":[{\"marker\":{\"colorbar\":{\"outlinewidth\":0,\"ticks\":\"\"}},\"type\":\"scattergeo\"}],\"scattergl\":[{\"marker\":{\"colorbar\":{\"outlinewidth\":0,\"ticks\":\"\"}},\"type\":\"scattergl\"}],\"scattermapbox\":[{\"marker\":{\"colorbar\":{\"outlinewidth\":0,\"ticks\":\"\"}},\"type\":\"scattermapbox\"}],\"scatterpolar\":[{\"marker\":{\"colorbar\":{\"outlinewidth\":0,\"ticks\":\"\"}},\"type\":\"scatterpolar\"}],\"scatterpolargl\":[{\"marker\":{\"colorbar\":{\"outlinewidth\":0,\"ticks\":\"\"}},\"type\":\"scatterpolargl\"}],\"scatterternary\":[{\"marker\":{\"colorbar\":{\"outlinewidth\":0,\"ticks\":\"\"}},\"type\":\"scatterternary\"}],\"surface\":[{\"colorbar\":{\"outlinewidth\":0,\"ticks\":\"\"},\"colorscale\":[[0.0,\"#0d0887\"],[0.1111111111111111,\"#46039f\"],[0.2222222222222222,\"#7201a8\"],[0.3333333333333333,\"#9c179e\"],[0.4444444444444444,\"#bd3786\"],[0.5555555555555556,\"#d8576b\"],[0.6666666666666666,\"#ed7953\"],[0.7777777777777778,\"#fb9f3a\"],[0.8888888888888888,\"#fdca26\"],[1.0,\"#f0f921\"]],\"type\":\"surface\"}],\"table\":[{\"cells\":{\"fill\":{\"color\":\"#EBF0F8\"},\"line\":{\"color\":\"white\"}},\"header\":{\"fill\":{\"color\":\"#C8D4E3\"},\"line\":{\"color\":\"white\"}},\"type\":\"table\"}]},\"layout\":{\"annotationdefaults\":{\"arrowcolor\":\"#2a3f5f\",\"arrowhead\":0,\"arrowwidth\":1},\"autotypenumbers\":\"strict\",\"coloraxis\":{\"colorbar\":{\"outlinewidth\":0,\"ticks\":\"\"}},\"colorscale\":{\"diverging\":[[0,\"#8e0152\"],[0.1,\"#c51b7d\"],[0.2,\"#de77ae\"],[0.3,\"#f1b6da\"],[0.4,\"#fde0ef\"],[0.5,\"#f7f7f7\"],[0.6,\"#e6f5d0\"],[0.7,\"#b8e186\"],[0.8,\"#7fbc41\"],[0.9,\"#4d9221\"],[1,\"#276419\"]],\"sequential\":[[0.0,\"#0d0887\"],[0.1111111111111111,\"#46039f\"],[0.2222222222222222,\"#7201a8\"],[0.3333333333333333,\"#9c179e\"],[0.4444444444444444,\"#bd3786\"],[0.5555555555555556,\"#d8576b\"],[0.6666666666666666,\"#ed7953\"],[0.7777777777777778,\"#fb9f3a\"],[0.8888888888888888,\"#fdca26\"],[1.0,\"#f0f921\"]],\"sequentialminus\":[[0.0,\"#0d0887\"],[0.1111111111111111,\"#46039f\"],[0.2222222222222222,\"#7201a8\"],[0.3333333333333333,\"#9c179e\"],[0.4444444444444444,\"#bd3786\"],[0.5555555555555556,\"#d8576b\"],[0.6666666666666666,\"#ed7953\"],[0.7777777777777778,\"#fb9f3a\"],[0.8888888888888888,\"#fdca26\"],[1.0,\"#f0f921\"]]},\"colorway\":[\"#636efa\",\"#EF553B\",\"#00cc96\",\"#ab63fa\",\"#FFA15A\",\"#19d3f3\",\"#FF6692\",\"#B6E880\",\"#FF97FF\",\"#FECB52\"],\"font\":{\"color\":\"#2a3f5f\"},\"geo\":{\"bgcolor\":\"white\",\"lakecolor\":\"white\",\"landcolor\":\"#E5ECF6\",\"showlakes\":true,\"showland\":true,\"subunitcolor\":\"white\"},\"hoverlabel\":{\"align\":\"left\"},\"hovermode\":\"closest\",\"mapbox\":{\"style\":\"light\"},\"paper_bgcolor\":\"white\",\"plot_bgcolor\":\"#E5ECF6\",\"polar\":{\"angularaxis\":{\"gridcolor\":\"white\",\"linecolor\":\"white\",\"ticks\":\"\"},\"bgcolor\":\"#E5ECF6\",\"radialaxis\":{\"gridcolor\":\"white\",\"linecolor\":\"white\",\"ticks\":\"\"}},\"scene\":{\"xaxis\":{\"backgroundcolor\":\"#E5ECF6\",\"gridcolor\":\"white\",\"gridwidth\":2,\"linecolor\":\"white\",\"showbackground\":true,\"ticks\":\"\",\"zerolinecolor\":\"white\"},\"yaxis\":{\"backgroundcolor\":\"#E5ECF6\",\"gridcolor\":\"white\",\"gridwidth\":2,\"linecolor\":\"white\",\"showbackground\":true,\"ticks\":\"\",\"zerolinecolor\":\"white\"},\"zaxis\":{\"backgroundcolor\":\"#E5ECF6\",\"gridcolor\":\"white\",\"gridwidth\":2,\"linecolor\":\"white\",\"showbackground\":true,\"ticks\":\"\",\"zerolinecolor\":\"white\"}},\"shapedefaults\":{\"line\":{\"color\":\"#2a3f5f\"}},\"ternary\":{\"aaxis\":{\"gridcolor\":\"white\",\"linecolor\":\"white\",\"ticks\":\"\"},\"baxis\":{\"gridcolor\":\"white\",\"linecolor\":\"white\",\"ticks\":\"\"},\"bgcolor\":\"#E5ECF6\",\"caxis\":{\"gridcolor\":\"white\",\"linecolor\":\"white\",\"ticks\":\"\"}},\"title\":{\"x\":0.05},\"xaxis\":{\"automargin\":true,\"gridcolor\":\"white\",\"linecolor\":\"white\",\"ticks\":\"\",\"title\":{\"standoff\":15},\"zerolinecolor\":\"white\",\"zerolinewidth\":2},\"yaxis\":{\"automargin\":true,\"gridcolor\":\"white\",\"linecolor\":\"white\",\"ticks\":\"\",\"title\":{\"standoff\":15},\"zerolinecolor\":\"white\",\"zerolinewidth\":2}}}},                        {\"responsive\": true}                    ).then(function(){\n",
       "                            \n",
       "var gd = document.getElementById('9dfa8f01-b65c-4bb4-a4b6-f4433436d222');\n",
       "var x = new MutationObserver(function (mutations, observer) {{\n",
       "        var display = window.getComputedStyle(gd).display;\n",
       "        if (!display || display === 'none') {{\n",
       "            console.log([gd, 'removed!']);\n",
       "            Plotly.purge(gd);\n",
       "            observer.disconnect();\n",
       "        }}\n",
       "}});\n",
       "\n",
       "// Listen for the removal of the full notebook cells\n",
       "var notebookContainer = gd.closest('#notebook-container');\n",
       "if (notebookContainer) {{\n",
       "    x.observe(notebookContainer, {childList: true});\n",
       "}}\n",
       "\n",
       "// Listen for the clearing of the current output cell\n",
       "var outputEl = gd.closest('.output');\n",
       "if (outputEl) {{\n",
       "    x.observe(outputEl, {childList: true});\n",
       "}}\n",
       "\n",
       "                        })                };                });            </script>        </div>"
      ]
     },
     "metadata": {},
     "output_type": "display_data"
    }
   ],
   "source": [
    "#k线图\n",
    "import plotly.graph_objects as go\n",
    "from plotly.offline import init_notebook_mode, iplot\n",
    "\n",
    "df = log_return\n",
    "i = 500\n",
    "j = 0\n",
    "fig = go.Figure(data=go.Candlestick(\n",
    "                    open=price_all[-100:,1],#df.iloc[1+j*featuresize,i:i+100],\n",
    "                    high=price_all[-100:,2],#df.iloc[0+j*featuresize,i:i+100],\n",
    "                    low=price_all[-100:,3],#df.iloc[2+j*featuresize,i:i+100],\n",
    "                    close=price_all[-100:,0]))#df.iloc[3+j*featuresize,i:i+100]))\n",
    "cs = fig.data[0]\n",
    "#low=df.iloc[2, 0:100],\n",
    "#open=df.iloc[1, 0:100],1\n",
    "\n",
    "# Set line and fill colors\n",
    "cs.increasing.fillcolor = '#FF4136'\n",
    "cs.increasing.line.color = '#FF4136'\n",
    "cs.decreasing.fillcolor = '#3D9970'\n",
    "cs.decreasing.line.color = '#3D9970'\n",
    "iplot(fig)"
   ]
  },
  {
   "cell_type": "code",
   "execution_count": 464,
   "id": "402a6cae",
   "metadata": {},
   "outputs": [
    {
     "data": {
      "image/png": "[encoded data removed]",
      "text/plain": [
       "<Figure size 432x288 with 1 Axes>"
      ]
     },
     "metadata": {
      "needs_background": "light"
     },
     "output_type": "display_data"
    }
   ],
   "source": [
    "with torch.no_grad():\n",
    "    x_past = x_real_test[:, :base_config.p]\n",
    "    x_p = x_past.clone().repeat(5, 1, 1)\n",
    "    x_p = x_p[:1]\n",
    "    \n",
    "    \n",
    "    for i in range(100):\n",
    "        x_fake_future = algo.G.sample(2520, x_p.to(base_config.device))\n",
    "        \n",
    "        log_return=x_fake_future[0,:,0].cpu().numpy()*std+mu\n",
    "        if i==0:\n",
    "            log_return_all=log_return.reshape(-1,1)\n",
    "        else:\n",
    "            log_return_all=np.hstack((log_return_all,log_return.reshape(-1,1)))\n",
    "        price = np.exp(log_return)\n",
    "        price=np.cumprod(price)\n",
    "        plt.plot(price)\n",
    "plt.show()"
   ]
  },
  {
   "cell_type": "code",
   "execution_count": 465,
   "id": "086d7895",
   "metadata": {},
   "outputs": [
    {
     "data": {
      "image/png": "[encoded data removed]",
      "text/plain": [
       "<Figure size 432x288 with 1 Axes>"
      ]
     },
     "metadata": {
      "needs_background": "light"
     },
     "output_type": "display_data"
    }
   ],
   "source": [
    "#生成样本分布\n",
    "plt.hist(log_return_all.reshape(-1),bins=50)\n",
    "plt.show()"
   ]
  },
  {
   "cell_type": "code",
   "execution_count": 466,
   "id": "3cccc2b4",
   "metadata": {},
   "outputs": [
    {
     "data": {
      "image/png": "[encoded data removed]",
      "text/plain": [
       "<Figure size 432x288 with 1 Axes>"
      ]
     },
     "metadata": {
      "needs_background": "light"
     },
     "output_type": "display_data"
    }
   ],
   "source": [
    "#真实样本分布\n",
    "plt.hist(rtn.reshape(-1),bins=50)\n",
    "plt.show()"
   ]
  },
  {
   "cell_type": "code",
   "execution_count": 467,
   "id": "e495afc5",
   "metadata": {},
   "outputs": [
    {
     "data": {
      "text/plain": [
       "(12,\n",
       " <AxesSubplot:title={'center':'gain_loss_asymmetry (True)'}, xlabel='lag K'>)"
      ]
     },
     "execution_count": 467,
     "metadata": {},
     "output_type": "execute_result"
    },
    {
     "data": {
      "image/png": "[encoded data removed]",
      "text/plain": [
       "<Figure size 1440x864 with 6 Axes>"
      ]
     },
     "metadata": {
      "needs_background": "light"
     },
     "output_type": "display_data"
    }
   ],
   "source": [
    "fig, axes = plt.subplots(2,3, figsize = (20, 12))\n",
    "\n",
    "me = Model_Evaluation.Model_Evaluation(pd.DataFrame(log_return_all))\n",
    "auto_cor=me.auto_correlation_avg( maxLags=100, title=\"Auto correlation (True)\", plot = True, ax = axes[0,0])\n",
    "\n",
    "me.vol_cluster_test_avg(title=\"Volatility Clustering (True)\", plot = True, ax = axes[0, 2])\n",
    "\n",
    "me.leverage_effect_testing_avg(maxLag=20, plot = True, title=\"Leverage Effect (True)\", ax = axes[1,0])\n",
    "\n",
    "me.coarse_fine_vol_corr_test_avg(lags=20, title=\"Coarse-fine Volatility Correlation (True)\", plot = True, ax = axes[1, 1])\n",
    "\n",
    "me.gain_loss_asymmetry(title = \"gain_loss_asymmetry (True)\", plot = True, ax = axes[1,2])"
   ]
  },
  {
   "cell_type": "code",
   "execution_count": 468,
   "id": "232d3b49",
   "metadata": {},
   "outputs": [
    {
     "data": {
      "image/png": "[encoded data removed]",
      "text/plain": [
       "<Figure size 720x576 with 4 Axes>"
      ]
     },
     "metadata": {
      "needs_background": "light"
     },
     "output_type": "display_data"
    }
   ],
   "source": [
    "algo.plot_losses()"
   ]
  },
  {
   "cell_type": "code",
   "execution_count": null,
   "id": "e809fd37",
   "metadata": {},
   "outputs": [],
   "source": []
  },
  {
   "cell_type": "code",
   "execution_count": null,
   "id": "444c9e55",
   "metadata": {},
   "outputs": [],
   "source": []
  },
  {
   "cell_type": "code",
   "execution_count": null,
   "id": "4950b959",
   "metadata": {},
   "outputs": [],
   "source": []
  }
 ],
 "metadata": {
  "kernelspec": {
   "display_name": "Python 3",
   "language": "python",
   "name": "python3"
  },
  "language_info": {
   "codemirror_mode": {
    "name": "ipython",
    "version": 3
   },
   "file_extension": ".py",
   "mimetype": "text/x-python",
   "name": "python",
   "nbconvert_exporter": "python",
   "pygments_lexer": "ipython3",
   "version": "3.6.8"
  }
 },
 "nbformat": 4,
 "nbformat_minor": 5
}
